{
 "cells": [
  {
   "cell_type": "markdown",
   "metadata": {},
   "source": [
    "## Use Age and Miles as Predictors. "
   ]
  },
  {
   "cell_type": "code",
   "execution_count": 5,
   "metadata": {},
   "outputs": [],
   "source": [
    "library(ggplot2)\n",
    "Honda_Accord<-read.csv(\"HondaAccord2.csv\")"
   ]
  },
  {
   "cell_type": "markdown",
   "metadata": {},
   "source": [
    "Model:\n",
    "\n",
    "Price = $B_0$ + $B_1$(Age) + $B_2$(Miles)+ E \n",
    "\n",
    "Price = 23.92500 + $B_1$(-1.44629) + $B_2$(-0.01927)"
   ]
  },
  {
   "cell_type": "code",
   "execution_count": 8,
   "metadata": {},
   "outputs": [
    {
     "data": {
      "text/plain": [
       "\n",
       "Call:\n",
       "lm(formula = Price ~ Age + Miles, data = Honda_Accord)\n",
       "\n",
       "Residuals:\n",
       "    Min      1Q  Median      3Q     Max \n",
       "-3.2390 -0.7885 -0.1048  0.6735  4.6251 \n",
       "\n",
       "Coefficients:\n",
       "            Estimate Std. Error t value Pr(>|t|)    \n",
       "(Intercept) 23.92500    0.67804  35.285  < 2e-16 ***\n",
       "Age         -1.44629    0.33898  -4.267 0.000315 ***\n",
       "Miles       -0.01927    0.02475  -0.779 0.444531    \n",
       "---\n",
       "Signif. codes:  0 ‘***’ 0.001 ‘**’ 0.01 ‘*’ 0.05 ‘.’ 0.1 ‘ ’ 1\n",
       "\n",
       "Residual standard error: 1.829 on 22 degrees of freedom\n",
       "Multiple R-squared:  0.8904,\tAdjusted R-squared:  0.8804 \n",
       "F-statistic: 89.32 on 2 and 22 DF,  p-value: 2.754e-11\n"
      ]
     },
     "metadata": {},
     "output_type": "display_data"
    }
   ],
   "source": [
    "fit_Multiple_Regression<-lm(Price~Age+Miles, data= Honda_Accord)\n",
    "summary(fit_Multiple_Regression)"
   ]
  },
  {
   "cell_type": "markdown",
   "metadata": {},
   "source": [
    "## Find residual for the first car in your sample. Show the actual computation for this part, based on your prediction equation and the data for that car.\n",
    "\n",
    "Residual= $y$ - $\\hat{y}$"
   ]
  },
  {
   "cell_type": "markdown",
   "metadata": {},
   "source": [
    "1st car\n",
    "Age: 3\n",
    "Miles: 25.9\n",
    "Price: 19.5"
   ]
  },
  {
   "cell_type": "code",
   "execution_count": 18,
   "metadata": {},
   "outputs": [
    {
     "data": {
      "text/html": [
       "412.962999999998"
      ],
      "text/latex": [
       "412.962999999998"
      ],
      "text/markdown": [
       "412.962999999998"
      ],
      "text/plain": [
       "[1] 412.963"
      ]
     },
     "metadata": {},
     "output_type": "display_data"
    }
   ],
   "source": [
    "y_hat<- 23.92500 + (3)*(-1.44629) + (25.9)*(-0.01927)\n",
    "y<-19.5\n",
    "Residual<- y-y_hat\n",
    "Residual*1000\n"
   ]
  },
  {
   "cell_type": "markdown",
   "metadata": {},
   "source": [
    "The residual is 412.962999999998"
   ]
  },
  {
   "cell_type": "markdown",
   "metadata": {},
   "source": [
    "## Assess the importance of each of the predictors in the model - be sure to indicate the specific values(s) from the output you are using to make the assessments. Include hypotheses and conclusions in context."
   ]
  },
  {
   "cell_type": "markdown",
   "metadata": {},
   "source": [
    "$H_0: B_1 = 0$\n",
    "\n",
    "$H_a: B_1 \\neq 0$\n",
    "\n",
    "t_1 = $\\frac{b_1}{SE_{b_1}}$"
   ]
  },
  {
   "cell_type": "code",
   "execution_count": 20,
   "metadata": {},
   "outputs": [
    {
     "data": {
      "text/html": [
       "-4.26659389934509"
      ],
      "text/latex": [
       "-4.26659389934509"
      ],
      "text/markdown": [
       "-4.26659389934509"
      ],
      "text/plain": [
       "[1] -4.266594"
      ]
     },
     "metadata": {},
     "output_type": "display_data"
    }
   ],
   "source": [
    "t_1<-(-1.44629)/(0.33898)\n",
    "t_1"
   ]
  },
  {
   "cell_type": "markdown",
   "metadata": {},
   "source": [
    "The test statistic is far in the tail of a t distribution with 22 degrees of freedom, so we have a p value that's close to 0.000 and below $\\alpha$ = 0.1 we can reject $H_0$ and conclude that age is effective for predicting prices of used Honda Accords. "
   ]
  },
  {
   "cell_type": "markdown",
   "metadata": {},
   "source": [
    "$H_0: B_2 = 0$\n",
    "\n",
    "$H_a: B_2 \\neq 0$\n",
    "\n",
    "t_2 = $\\frac{b_2}{SE_{b_2}}$"
   ]
  },
  {
   "cell_type": "code",
   "execution_count": 24,
   "metadata": {},
   "outputs": [
    {
     "data": {
      "text/html": [
       "-0.778585858585858"
      ],
      "text/latex": [
       "-0.778585858585858"
      ],
      "text/markdown": [
       "-0.778585858585858"
      ],
      "text/plain": [
       "[1] -0.7785859"
      ]
     },
     "metadata": {},
     "output_type": "display_data"
    }
   ],
   "source": [
    "t_2<- (-0.01927)/(0.02475) \n",
    "t_2\n"
   ]
  },
  {
   "cell_type": "markdown",
   "metadata": {},
   "source": [
    "The test statistic is not far in the tail of a t distribution with 22 degrees of freedom, so we have a p value that's greater than $\\alpha$ = 0.1 we can not reject $H_0$ and conclude that miles is not effective for predicting prices of used Honda Accords. "
   ]
  },
  {
   "cell_type": "markdown",
   "metadata": {},
   "source": [
    "## Assess the overall effectiveness of this model (with a formal test). Again, be sure to include hypotheses and the specific value(s) you are using from the output to reach a conclusion."
   ]
  },
  {
   "cell_type": "code",
   "execution_count": 28,
   "metadata": {},
   "outputs": [
    {
     "data": {
      "text/html": [
       "<table>\n",
       "<thead><tr><th></th><th scope=col>Df</th><th scope=col>Sum Sq</th><th scope=col>Mean Sq</th><th scope=col>F value</th><th scope=col>Pr(&gt;F)</th></tr></thead>\n",
       "<tbody>\n",
       "\t<tr><th scope=row>Age</th><td> 1          </td><td>595.275020  </td><td>595.275020  </td><td>178.040237  </td><td>5.049437e-12</td></tr>\n",
       "\t<tr><th scope=row>Miles</th><td> 1          </td><td>  2.026691  </td><td>  2.026691  </td><td>  0.606161  </td><td>4.445308e-01</td></tr>\n",
       "\t<tr><th scope=row>Residuals</th><td>22          </td><td> 73.556689  </td><td>  3.343486  </td><td>        NA  </td><td>          NA</td></tr>\n",
       "</tbody>\n",
       "</table>\n"
      ],
      "text/latex": [
       "\\begin{tabular}{r|lllll}\n",
       "  & Df & Sum Sq & Mean Sq & F value & Pr(>F)\\\\\n",
       "\\hline\n",
       "\tAge &  1           & 595.275020   & 595.275020   & 178.040237   & 5.049437e-12\\\\\n",
       "\tMiles &  1           &   2.026691   &   2.026691   &   0.606161   & 4.445308e-01\\\\\n",
       "\tResiduals & 22           &  73.556689   &   3.343486   &         NA   &           NA\\\\\n",
       "\\end{tabular}\n"
      ],
      "text/markdown": [
       "\n",
       "| <!--/--> | Df | Sum Sq | Mean Sq | F value | Pr(>F) | \n",
       "|---|---|---|\n",
       "| Age |  1           | 595.275020   | 595.275020   | 178.040237   | 5.049437e-12 | \n",
       "| Miles |  1           |   2.026691   |   2.026691   |   0.606161   | 4.445308e-01 | \n",
       "| Residuals | 22           |  73.556689   |   3.343486   |         NA   |           NA | \n",
       "\n",
       "\n"
      ],
      "text/plain": [
       "          Df Sum Sq     Mean Sq    F value    Pr(>F)      \n",
       "Age        1 595.275020 595.275020 178.040237 5.049437e-12\n",
       "Miles      1   2.026691   2.026691   0.606161 4.445308e-01\n",
       "Residuals 22  73.556689   3.343486         NA           NA"
      ]
     },
     "metadata": {},
     "output_type": "display_data"
    },
    {
     "data": {
      "text/html": [
       "<table>\n",
       "<thead><tr><th scope=col>Res.Df</th><th scope=col>RSS</th><th scope=col>Df</th><th scope=col>Sum of Sq</th><th scope=col>F</th><th scope=col>Pr(&gt;F)</th></tr></thead>\n",
       "<tbody>\n",
       "\t<tr><td>23       </td><td>75.58338 </td><td>NA       </td><td>      NA </td><td>      NA </td><td>       NA</td></tr>\n",
       "\t<tr><td>22       </td><td>73.55669 </td><td> 1       </td><td>2.026691 </td><td>0.606161 </td><td>0.4445308</td></tr>\n",
       "</tbody>\n",
       "</table>\n"
      ],
      "text/latex": [
       "\\begin{tabular}{r|llllll}\n",
       " Res.Df & RSS & Df & Sum of Sq & F & Pr(>F)\\\\\n",
       "\\hline\n",
       "\t 23        & 75.58338  & NA        &       NA  &       NA  &        NA\\\\\n",
       "\t 22        & 73.55669  &  1        & 2.026691  & 0.606161  & 0.4445308\\\\\n",
       "\\end{tabular}\n"
      ],
      "text/markdown": [
       "\n",
       "Res.Df | RSS | Df | Sum of Sq | F | Pr(>F) | \n",
       "|---|---|\n",
       "| 23        | 75.58338  | NA        |       NA  |       NA  |        NA | \n",
       "| 22        | 73.55669  |  1        | 2.026691  | 0.606161  | 0.4445308 | \n",
       "\n",
       "\n"
      ],
      "text/plain": [
       "  Res.Df RSS      Df Sum of Sq F        Pr(>F)   \n",
       "1 23     75.58338 NA       NA        NA        NA\n",
       "2 22     73.55669  1 2.026691  0.606161 0.4445308"
      ]
     },
     "metadata": {},
     "output_type": "display_data"
    }
   ],
   "source": [
    "fit_Age_model<-lm(formula = Price~Age,data=Honda_Accord)\n",
    "anova(fit_Multiple_Regression)\n",
    "anova(fit_Age_model,fit_Multiple_Regression)"
   ]
  },
  {
   "cell_type": "markdown",
   "metadata": {},
   "source": [
    "$H_0: B_2 = 0$\n",
    "\n",
    "$H_a: B_2 \\neq 0$\n",
    "\n",
    "\n",
    "\n",
    "$F = \\frac{\\frac{SSE_(Reduced) - SSE_(Full)}{num. of predictors tested}}{SSE_(Full)/(n-k-1)}$\n",
    "\n",
    "num. of predictors tested = 1 \n",
    "\n",
    "n=25\n",
    "\n",
    "k=2\n",
    "\n",
    "n-k-1: 25-2-1=22\n",
    "\n",
    "$SSE_reduced = 75.583$\n",
    "\n",
    "$SSE_full= 73.557$\n",
    "\n",
    "\n",
    "\n",
    "Being that the p value is greater than $\\alpha$ = 0.1, this implies that Miles is not a strong predictor and thus, it's not helpful to this model. We could probably just use Price = $B_0$ + $B_1$(Age) + E for predicting the prices of used Honda Accords."
   ]
  },
  {
   "cell_type": "code",
   "execution_count": 26,
   "metadata": {},
   "outputs": [
    {
     "data": {
      "text/html": [
       "0.605951846867054"
      ],
      "text/latex": [
       "0.605951846867054"
      ],
      "text/markdown": [
       "0.605951846867054"
      ],
      "text/plain": [
       "[1] 0.6059518"
      ]
     },
     "metadata": {},
     "output_type": "display_data"
    }
   ],
   "source": [
    "F<-(((75.583-73.557))/(1))/(73.557/(22))\n",
    "F"
   ]
  }
 ],
 "metadata": {
  "kernelspec": {
   "display_name": "R 3.4.0",
   "language": "R",
   "name": "ir34"
  },
  "language_info": {
   "codemirror_mode": "r",
   "file_extension": ".r",
   "mimetype": "text/x-r-source",
   "name": "R",
   "pygments_lexer": "r",
   "version": "3.4.3"
  }
 },
 "nbformat": 4,
 "nbformat_minor": 2
}
