{
 "cells": [
  {
   "cell_type": "code",
   "execution_count": 12,
   "metadata": {},
   "outputs": [],
   "source": [
    "library(ggplot2)\n",
    "Honda_Accord<-read.csv(\"HondaAccord2.csv\")"
   ]
  },
  {
   "cell_type": "markdown",
   "metadata": {},
   "source": [
    "## Write down the complete second-order model for predicting a used car based on age and miles. \n",
    "$Y=B_0+B_1(X)+B_2(X^2)+B_3(X^3)+B_"
   ]
  },
  {
   "cell_type": "code",
   "execution_count": 13,
   "metadata": {},
   "outputs": [
    {
     "data": {
      "text/plain": [
       "\n",
       "Call:\n",
       "lm(formula = Price ~ Age + Miles + I(Age^2) + I(Miles^2) + Age:Miles, \n",
       "    data = Honda_Accord)\n",
       "\n",
       "Residuals:\n",
       "    Min      1Q  Median      3Q     Max \n",
       "-2.8878 -1.0495  0.1057  0.8373  3.5583 \n",
       "\n",
       "Coefficients:\n",
       "             Estimate Std. Error t value Pr(>|t|)    \n",
       "(Intercept) 25.272751   0.895285  28.229   <2e-16 ***\n",
       "Age         -0.873077   0.902663  -0.967   0.3456    \n",
       "Miles       -0.127789   0.065975  -1.937   0.0678 .  \n",
       "I(Age^2)    -0.128606   0.264423  -0.486   0.6323    \n",
       "I(Miles^2)   0.000171   0.001313   0.130   0.8978    \n",
       "Age:Miles    0.013787   0.035637   0.387   0.7031    \n",
       "---\n",
       "Signif. codes:  0 ‘***’ 0.001 ‘**’ 0.01 ‘*’ 0.05 ‘.’ 0.1 ‘ ’ 1\n",
       "\n",
       "Residual standard error: 1.674 on 19 degrees of freedom\n",
       "Multiple R-squared:  0.9207,\tAdjusted R-squared:  0.8998 \n",
       "F-statistic:  44.1 on 5 and 19 DF,  p-value: 8.307e-10\n"
      ]
     },
     "metadata": {},
     "output_type": "display_data"
    },
    {
     "data": {
      "text/html": [
       "<table>\n",
       "<thead><tr><th></th><th scope=col>Df</th><th scope=col>Sum Sq</th><th scope=col>Mean Sq</th><th scope=col>F value</th><th scope=col>Pr(&gt;F)</th></tr></thead>\n",
       "<tbody>\n",
       "\t<tr><th scope=row>Age</th><td> 1          </td><td>595.2750199 </td><td>595.2750199 </td><td>212.5145873 </td><td>9.084048e-12</td></tr>\n",
       "\t<tr><th scope=row>Miles</th><td> 1          </td><td>  2.0266907 </td><td>  2.0266907 </td><td>  0.7235334 </td><td>4.055798e-01</td></tr>\n",
       "\t<tr><th scope=row>I(Age^2)</th><td> 1          </td><td> 12.5822018 </td><td> 12.5822018 </td><td>  4.4918758 </td><td>4.745187e-02</td></tr>\n",
       "\t<tr><th scope=row>I(Miles^2)</th><td> 1          </td><td>  7.3342914 </td><td>  7.3342914 </td><td>  2.6183593 </td><td>1.221146e-01</td></tr>\n",
       "\t<tr><th scope=row>Age:Miles</th><td> 1          </td><td>  0.4192596 </td><td>  0.4192596 </td><td>  0.1496767 </td><td>7.031436e-01</td></tr>\n",
       "\t<tr><th scope=row>Residuals</th><td>19          </td><td> 53.2209366 </td><td>  2.8011019 </td><td>         NA </td><td>          NA</td></tr>\n",
       "</tbody>\n",
       "</table>\n"
      ],
      "text/latex": [
       "\\begin{tabular}{r|lllll}\n",
       "  & Df & Sum Sq & Mean Sq & F value & Pr(>F)\\\\\n",
       "\\hline\n",
       "\tAge &  1           & 595.2750199  & 595.2750199  & 212.5145873  & 9.084048e-12\\\\\n",
       "\tMiles &  1           &   2.0266907  &   2.0266907  &   0.7235334  & 4.055798e-01\\\\\n",
       "\tI(Age\\textasciicircum{}2) &  1           &  12.5822018  &  12.5822018  &   4.4918758  & 4.745187e-02\\\\\n",
       "\tI(Miles\\textasciicircum{}2) &  1           &   7.3342914  &   7.3342914  &   2.6183593  & 1.221146e-01\\\\\n",
       "\tAge:Miles &  1           &   0.4192596  &   0.4192596  &   0.1496767  & 7.031436e-01\\\\\n",
       "\tResiduals & 19           &  53.2209366  &   2.8011019  &          NA  &           NA\\\\\n",
       "\\end{tabular}\n"
      ],
      "text/markdown": [
       "\n",
       "| <!--/--> | Df | Sum Sq | Mean Sq | F value | Pr(>F) | \n",
       "|---|---|---|---|---|---|\n",
       "| Age |  1           | 595.2750199  | 595.2750199  | 212.5145873  | 9.084048e-12 | \n",
       "| Miles |  1           |   2.0266907  |   2.0266907  |   0.7235334  | 4.055798e-01 | \n",
       "| I(Age^2) |  1           |  12.5822018  |  12.5822018  |   4.4918758  | 4.745187e-02 | \n",
       "| I(Miles^2) |  1           |   7.3342914  |   7.3342914  |   2.6183593  | 1.221146e-01 | \n",
       "| Age:Miles |  1           |   0.4192596  |   0.4192596  |   0.1496767  | 7.031436e-01 | \n",
       "| Residuals | 19           |  53.2209366  |   2.8011019  |          NA  |           NA | \n",
       "\n",
       "\n"
      ],
      "text/plain": [
       "           Df Sum Sq      Mean Sq     F value     Pr(>F)      \n",
       "Age         1 595.2750199 595.2750199 212.5145873 9.084048e-12\n",
       "Miles       1   2.0266907   2.0266907   0.7235334 4.055798e-01\n",
       "I(Age^2)    1  12.5822018  12.5822018   4.4918758 4.745187e-02\n",
       "I(Miles^2)  1   7.3342914   7.3342914   2.6183593 1.221146e-01\n",
       "Age:Miles   1   0.4192596   0.4192596   0.1496767 7.031436e-01\n",
       "Residuals  19  53.2209366   2.8011019          NA           NA"
      ]
     },
     "metadata": {},
     "output_type": "display_data"
    }
   ],
   "source": [
    "SecondOrder_Model<- lm(Price~Age+Miles+I(Age^2)+I(Miles^2)+Age:Miles, data=Honda_Accord)\n",
    "summary(SecondOrder_Model)\n",
    "anova(SecondOrder_Model)"
   ]
  },
  {
   "cell_type": "code",
   "execution_count": 14,
   "metadata": {},
   "outputs": [
    {
     "data": {
      "text/plain": [
       "\n",
       "Call:\n",
       "lm(formula = Price ~ Age + Miles + I(Age^2), data = Honda_Accord)\n",
       "\n",
       "Residuals:\n",
       "    Min      1Q  Median      3Q     Max \n",
       "-3.0771 -0.6676 -0.2389  0.6101  3.3517 \n",
       "\n",
       "Coefficients:\n",
       "            Estimate Std. Error t value Pr(>|t|)    \n",
       "(Intercept) 25.25692    0.89924  28.087  < 2e-16 ***\n",
       "Age         -2.01650    0.41811  -4.823 9.12e-05 ***\n",
       "Miles       -0.04177    0.02547  -1.640   0.1159    \n",
       "I(Age^2)     0.08491    0.04079   2.082   0.0498 *  \n",
       "---\n",
       "Signif. codes:  0 ‘***’ 0.001 ‘**’ 0.01 ‘*’ 0.05 ‘.’ 0.1 ‘ ’ 1\n",
       "\n",
       "Residual standard error: 1.704 on 21 degrees of freedom\n",
       "Multiple R-squared:  0.9091,\tAdjusted R-squared:  0.8961 \n",
       "F-statistic: 70.02 on 3 and 21 DF,  p-value: 4.204e-11\n"
      ]
     },
     "metadata": {},
     "output_type": "display_data"
    },
    {
     "data": {
      "text/html": [
       "<table>\n",
       "<thead><tr><th></th><th scope=col>Df</th><th scope=col>Sum Sq</th><th scope=col>Mean Sq</th><th scope=col>F value</th><th scope=col>Pr(&gt;F)</th></tr></thead>\n",
       "<tbody>\n",
       "\t<tr><th scope=row>Age</th><td> 1          </td><td>595.275020  </td><td>595.275020  </td><td>205.0164899 </td><td>2.628779e-12</td></tr>\n",
       "\t<tr><th scope=row>Miles</th><td> 1          </td><td>  2.026691  </td><td>  2.026691  </td><td>  0.6980051 </td><td>4.128598e-01</td></tr>\n",
       "\t<tr><th scope=row>I(Age^2)</th><td> 1          </td><td> 12.582202  </td><td> 12.582202  </td><td>  4.3333901 </td><td>4.979277e-02</td></tr>\n",
       "\t<tr><th scope=row>Residuals</th><td>21          </td><td> 60.974488  </td><td>  2.903547  </td><td>         NA </td><td>          NA</td></tr>\n",
       "</tbody>\n",
       "</table>\n"
      ],
      "text/latex": [
       "\\begin{tabular}{r|lllll}\n",
       "  & Df & Sum Sq & Mean Sq & F value & Pr(>F)\\\\\n",
       "\\hline\n",
       "\tAge &  1           & 595.275020   & 595.275020   & 205.0164899  & 2.628779e-12\\\\\n",
       "\tMiles &  1           &   2.026691   &   2.026691   &   0.6980051  & 4.128598e-01\\\\\n",
       "\tI(Age\\textasciicircum{}2) &  1           &  12.582202   &  12.582202   &   4.3333901  & 4.979277e-02\\\\\n",
       "\tResiduals & 21           &  60.974488   &   2.903547   &          NA  &           NA\\\\\n",
       "\\end{tabular}\n"
      ],
      "text/markdown": [
       "\n",
       "| <!--/--> | Df | Sum Sq | Mean Sq | F value | Pr(>F) | \n",
       "|---|---|---|---|\n",
       "| Age |  1           | 595.275020   | 595.275020   | 205.0164899  | 2.628779e-12 | \n",
       "| Miles |  1           |   2.026691   |   2.026691   |   0.6980051  | 4.128598e-01 | \n",
       "| I(Age^2) |  1           |  12.582202   |  12.582202   |   4.3333901  | 4.979277e-02 | \n",
       "| Residuals | 21           |  60.974488   |   2.903547   |          NA  |           NA | \n",
       "\n",
       "\n"
      ],
      "text/plain": [
       "          Df Sum Sq     Mean Sq    F value     Pr(>F)      \n",
       "Age        1 595.275020 595.275020 205.0164899 2.628779e-12\n",
       "Miles      1   2.026691   2.026691   0.6980051 4.128598e-01\n",
       "I(Age^2)   1  12.582202  12.582202   4.3333901 4.979277e-02\n",
       "Residuals 21  60.974488   2.903547          NA           NA"
      ]
     },
     "metadata": {},
     "output_type": "display_data"
    }
   ],
   "source": [
    "Miles_In_Quadratic<-lm(Price~Age+Miles+I(Age^2),data=Honda_Accord)\n",
    "summary(Miles_In_Quadratic)\n",
    "anova(Miles_In_Quadratic)"
   ]
  },
  {
   "cell_type": "markdown",
   "metadata": {},
   "source": [
    "## Write down the prediction equation. \n"
   ]
  },
  {
   "cell_type": "markdown",
   "metadata": {},
   "source": [
    "$Price=25.272751 -0.873077(Age) -0.127789(Miles) -0.128606(Age^2) + 0.000171(Miles^2)+ 0.013787(Age x Miles)$"
   ]
  },
  {
   "cell_type": "markdown",
   "metadata": {},
   "source": [
    "## Show how the details of a nested F test for just the second order terms (quadratic and interaction) that involves miles from this model. Include whatever output you need to get to the information to complete the test. Be sure to show all the usual details (hypothesis, test statistic, p value) and complete the test. In particular, show how the test statistic is computed by putting values into a formula. "
   ]
  },
  {
   "cell_type": "code",
   "execution_count": 15,
   "metadata": {},
   "outputs": [
    {
     "data": {
      "text/html": [
       "<table>\n",
       "<thead><tr><th scope=col>Res.Df</th><th scope=col>RSS</th><th scope=col>Df</th><th scope=col>Sum of Sq</th><th scope=col>F</th><th scope=col>Pr(&gt;F)</th></tr></thead>\n",
       "<tbody>\n",
       "\t<tr><td>21       </td><td>60.97449 </td><td>NA       </td><td>      NA </td><td>      NA </td><td>       NA</td></tr>\n",
       "\t<tr><td>19       </td><td>53.22094 </td><td> 2       </td><td>7.753551 </td><td>1.384018 </td><td>0.2747112</td></tr>\n",
       "</tbody>\n",
       "</table>\n"
      ],
      "text/latex": [
       "\\begin{tabular}{r|llllll}\n",
       " Res.Df & RSS & Df & Sum of Sq & F & Pr(>F)\\\\\n",
       "\\hline\n",
       "\t 21        & 60.97449  & NA        &       NA  &       NA  &        NA\\\\\n",
       "\t 19        & 53.22094  &  2        & 7.753551  & 1.384018  & 0.2747112\\\\\n",
       "\\end{tabular}\n"
      ],
      "text/markdown": [
       "\n",
       "Res.Df | RSS | Df | Sum of Sq | F | Pr(>F) | \n",
       "|---|---|\n",
       "| 21        | 60.97449  | NA        |       NA  |       NA  |        NA | \n",
       "| 19        | 53.22094  |  2        | 7.753551  | 1.384018  | 0.2747112 | \n",
       "\n",
       "\n"
      ],
      "text/plain": [
       "  Res.Df RSS      Df Sum of Sq F        Pr(>F)   \n",
       "1 21     60.97449 NA       NA        NA        NA\n",
       "2 19     53.22094  2 7.753551  1.384018 0.2747112"
      ]
     },
     "metadata": {},
     "output_type": "display_data"
    }
   ],
   "source": [
    "anova(Miles_In_Quadratic, SecondOrder_Model)"
   ]
  },
  {
   "cell_type": "markdown",
   "metadata": {},
   "source": [
    "$H_0: B_4=B_5 = 0$\n",
    "\n",
    "$H_a: B_4=B_5 \\neq 0$\n",
    "\n",
    "\n",
    "\n",
    "$F = \\frac{\\frac{SSE_(Reduced) - SSE_(Full)}{num. of predictors tested}}{SSE_(Full)/(n-k-1)}$\n",
    "\n",
    "num. of predictors tested = 2\n",
    "\n",
    "n=25\n",
    "\n",
    "k=5\n",
    "\n",
    "n-k-1: 25-5-1=19\n",
    "\n",
    "$SSE_reduced = 60.97449$\n",
    "\n",
    "$SSE_full= 53.22094$\n",
    "\n",
    "\n"
   ]
  },
  {
   "cell_type": "code",
   "execution_count": 16,
   "metadata": {},
   "outputs": [
    {
     "data": {
      "text/html": [
       "1.38401773813089"
      ],
      "text/latex": [
       "1.38401773813089"
      ],
      "text/markdown": [
       "1.38401773813089"
      ],
      "text/plain": [
       "[1] 1.384018"
      ]
     },
     "metadata": {},
     "output_type": "display_data"
    }
   ],
   "source": [
    "SSE_reduced<-60.97449\n",
    "SSE_Full<- 53.22094\n",
    "num_pred<-2\n",
    "\n",
    "F_stat<-((SSE_reduced-SSE_Full)/(2))/((SSE_Full)/(19))\n",
    "F_stat\n"
   ]
  },
  {
   "cell_type": "markdown",
   "metadata": {},
   "source": [
    "Being that the p value (p=0.2747) is greater than alpha = 0.1, this implies that the second order terms (quadratic and ineteraction) that involves miles from this model are not strong predictors and thus, they're not helpful to his model. We could probably just use $Price=B_0+ B_1(Age)+ B_2(Miles)+B_3(Age^2) for predicting the price of used Honda Accords. "
   ]
  },
  {
   "cell_type": "markdown",
   "metadata": {},
   "source": [
    "## Wrap up: Based on the various models you have considered for predicting the price of a used car, which you would you recommend using in practice? Give some justification for your answer. "
   ]
  },
  {
   "cell_type": "markdown",
   "metadata": {},
   "source": [
    "I would not use the linear model because the higher the age, eventually there will be a negative price which is not possible unless the person is paying the seller to take the used car away.\n",
    "\n",
    "The complete second order model isn't a good model because the predictors: miles, $miles^2$ and the interaction between Miles and Age are not strong predictors for the model because all of them have a p value greater than alpha =.1, which means they're not nededed in the model. \n",
    "\n",
    "Miles is not a strong predictor when included in the quadratic model as well.\n",
    "\n",
    "I would recommend using the quadratic model because both predictors Age and $Age^2$ are important to the model and the price does not go to 0 or become negative."
   ]
  }
 ],
 "metadata": {
  "kernelspec": {
   "display_name": "R 3.4.0",
   "language": "R",
   "name": "ir34"
  },
  "language_info": {
   "codemirror_mode": "r",
   "file_extension": ".r",
   "mimetype": "text/x-r-source",
   "name": "R",
   "pygments_lexer": "r",
   "version": "3.4.3"
  }
 },
 "nbformat": 4,
 "nbformat_minor": 2
}
